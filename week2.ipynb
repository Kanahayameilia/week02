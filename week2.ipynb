{
  "nbformat": 4,
  "nbformat_minor": 0,
  "metadata": {
    "colab": {
      "provenance": [],
      "authorship_tag": "ABX9TyMMoI1JzrXRqb8kcVSIq1xD",
      "include_colab_link": true
    },
    "kernelspec": {
      "name": "python3",
      "display_name": "Python 3"
    },
    "language_info": {
      "name": "python"
    }
  },
  "cells": [
    {
      "cell_type": "markdown",
      "metadata": {
        "id": "view-in-github",
        "colab_type": "text"
      },
      "source": [
        "<a href=\"https://colab.research.google.com/github/Kanahayameilia/week02/blob/main/week2.ipynb\" target=\"_parent\"><img src=\"https://colab.research.google.com/assets/colab-badge.svg\" alt=\"Open In Colab\"/></a>"
      ]
    },
    {
      "cell_type": "code",
      "execution_count": null,
      "metadata": {
        "id": "YEshM31gb48_",
        "colab": {
          "base_uri": "https://localhost:8080/"
        },
        "outputId": "0b25065d-f15e-401a-caa6-965cc77fadf5"
      },
      "outputs": [
        {
          "output_type": "stream",
          "name": "stdout",
          "text": [
            "Panjang = 20.5\n",
            "Lebar = 25\n",
            "Tinggi = 10\n",
            "Keliling = 91.0\n",
            "Volume   = 5125.0\n"
          ]
        }
      ],
      "source": [
        "panjang = 20.5  # Menggunakan titik desimal untuk bilangan float\n",
        "lebar = 25\n",
        "tinggi = 10\n",
        "\n",
        "keliling = 2 * (panjang + lebar)\n",
        "luas = panjang * lebar\n",
        "volume = panjang * lebar * tinggi\n",
        "\n",
        "print(\"Panjang =\", panjang)\n",
        "print(\"Lebar =\", lebar)\n",
        "print(\"Tinggi =\", tinggi)\n",
        "print(\"Keliling =\", keliling)\n",
        "print(\"Volume   =\", volume)"
      ]
    },
    {
      "cell_type": "code",
      "source": [
        "# Kamus data (dictionary)\n",
        "nilai_mahasiswa = {\n",
        "    \"Shafira\": {\"Kalkulus 1\": 85, \"Metode Statistika\": 75},\n",
        "    \"Amanda\": {\"Kalkulus 1\": 80, \"Metode Statistika\": 90},\n",
        "    \"Aditya\": {\"Kalkulus 1\": 75, \"Metode Statistika\": 80},\n",
        "    \"Nedia\": {\"Kalkulus 1\": 95, \"Metode Statistika\": 80},\n",
        "    \"Widya\": {\"Kalkulus 1\": 85, \"Metode Statistika\": 85},\n",
        "    \"Hanif\": {\"Ka lkulus 1\": 75, \"Metode Statistika\": 90},\n",
        "    \"Andi\": {\"Kalkulus 1\": 70, \"Metode Statistika\": 75},\n",
        "    \"Dhanar\": {\"Kalkulus 1\": 85, \"Metode Statistika\": 85},\n",
        "    \"Hikma\": {\"Kalkulus 1\": 80, \"Metode Statistika\": 75}\n",
        "}\n",
        "\n",
        "# Fungsi untuk menghitung rata-rata\n",
        "def hitung_rata_rata(list_nilai):\n",
        "    return sum(list_nilai) / len(list_nilai)\n",
        "\n",
        "# Perhitungan dan tampilan hasil\n",
        "# 1. Rata-rata nilai Shafira pada kedua mata kuliah\n",
        "rata_rata_shafira = hitung_rata_rata(nilai_mahasiswa[\"Shafira\"].values())\n",
        "print(\"Rata-rata nilai Shafira:\", rata_rata_shafira)\n",
        "\n",
        "# 2. Jumlah nilai Hanif dan Andi untuk semua mata kuliah\n",
        "jumlah_hanif_andi = sum(nilai_mahasiswa[\"Hanif\"].values()) + sum(nilai_mahasiswa[\"Andi\"].values())\n",
        "print(\"Jumlah nilai Hanif dan Andi:\", jumlah_hanif_andi)\n",
        "\n",
        "# 3. Rata-rata nilai Widya, Dhanar, Hikma dan Nedia pada masing-masing mata kuliah\n",
        "rata_rata_wdhdhn = {\n",
        "    \"Kalkulus 1\": hitung_rata_rata([nilai_mahasiswa[m][\"Kalkulus 1\"] for m in [\"Widya\", \"Dhanar\", \"Hikma\"]]),\n",
        "    \"Metode Statistika\": hitung_rata_rata([nilai_mahasiswa[m][\"Metode Statistika\"] for m in [\"Widya\", \"Dhanar\", \"Hikma\"]])\n",
        "}\n",
        "print(\"Rata-rata nilai Widya, Dhanar, dan Hikma:\")\n",
        "for mata_kuliah, rata_rata in rata_rata_wdhdhn.items():\n",
        "    print(f\"{mata_kuliah}: {rata_rata}\")\n",
        "\n",
        "# 4. Rata-rata nilai mata kuliah Kalkulus 1 untuk semua mahasiswa\n",
        "rata_rata_kalkulus1 = hitung_rata_rata([nilai_mahasiswa[m][\"Kalkulus 1\"] for m in nilai_mahasiswa])\n",
        "print(\"Rata-rata nilai Kalkulus 1:\", rata_rata_kalkulus1)\n",
        "\n",
        "# 5. Rata-rata nilai mata kuliah Metode Statistika untuk semua mahasiswa\n",
        "rata_rata_statistika = hitung_rata_rata([nilai_mahasiswa[m][\"Metode Statistika\"] for m in nilai_mahasiswa])\n",
        "print(\"Rata-rata nilai Metode Statistika:\", rata_rata_statistika)"
      ],
      "metadata": {
        "colab": {
          "base_uri": "https://localhost:8080/"
        },
        "id": "FFPFml10Re-w",
        "outputId": "0b133e94-b01e-423a-88b6-4ef319e78d37"
      },
      "execution_count": null,
      "outputs": [
        {
          "output_type": "stream",
          "name": "stdout",
          "text": [
            "Rata-rata nilai Shafira: 80.0\n",
            "Jumlah nilai Hanif dan Andi: 310\n",
            "Rata-rata nilai Widya, Dhanar, dan Hikma:\n",
            "Kalkulus 1: 83.33333333333333\n",
            "Metode Statistika: 81.66666666666667\n",
            "Rata-rata nilai Kalkulus 1: 81.11111111111111\n",
            "Rata-rata nilai Metode Statistika: 81.66666666666667\n"
          ]
        }
      ]
    },
    {
      "cell_type": "code",
      "source": [
        "# Gaji per jam kerja\n",
        "gaji_per_jam = 30000\n",
        "\n",
        "# Jumlah jam kerja dalam sehari\n",
        "jam_kerja_sehari = 8\n",
        "\n",
        "# Tunjangan untuk karyawan lebih dari 5 tahun (10% dari gaji pokok)\n",
        "tunjangan_lebih_5_tahun = 0.1\n",
        "\n",
        "# Gaji lembur per jam\n",
        "gaji_lembur_per_jam = 10000\n",
        "\n",
        "# Jumlah hari kerja di bulan Agustus (asumsi 31 hari)\n",
        "jumlah_hari_kerja = 31\n",
        "\n",
        "# Jumlah hari kerja di bulan Agustus (libur 3 hari)\n",
        "jumlah_hari_kerja_libur = 28\n",
        "\n",
        "# Hitung gaji pokok (asumsi tidak ada hari libur)\n",
        "gaji_pokok = jumlah_hari_kerja * jam_kerja_sehari * gaji_per_jam\n",
        "\n",
        "# Hitung gaji libur 3 hari\n",
        "gaji_libur = jumlah_hari_kerja_libur * jam_kerja_sehari * gaji_per_jam\n",
        "\n",
        "# Hitung tunjangan (asumsi Dwi sudah bekerja lebih dari 5 tahun)\n",
        "tunjangan = gaji_pokok * tunjangan_lebih_5_tahun\n",
        "\n",
        "# Hitung gaji lembur (asumsi Dwi lembur 5 jam)\n",
        "jumlah_jam_lembur = 5\n",
        "gaji_lembur = jumlah_jam_lembur * gaji_lembur_per_jam\n",
        "\n",
        "# Hitung gaji total\n",
        "gaji_total = gaji_pokok + tunjangan + gaji_lembur\n",
        "\n",
        "# Hitung gaji tunjangan\n",
        "gaji_tunjangan = gaji_pokok + tunjangan\n",
        "\n",
        "\n",
        "# Tampilkan hasil\n",
        "print(\"Gaji pokok Dwi:\", gaji_pokok)\n",
        "print(\"Gaji Dwi dengan libur 3 hari:\", gaji_libur)\n",
        "print(\"Tunjangan Dwi:\", tunjangan)\n",
        "print(\"Total gaji dengan tunjangan Dwi:\", gaji_tunjangan)\n",
        "print(\"Gaji lembur Dwi:\", gaji_lembur)\n",
        "print(\"Total gaji lembur Dwi:\", gaji_total)"
      ],
      "metadata": {
        "colab": {
          "base_uri": "https://localhost:8080/"
        },
        "id": "AHaaY-sOUFd8",
        "outputId": "3313c012-5d66-42c8-8431-06b1056d6c33"
      },
      "execution_count": null,
      "outputs": [
        {
          "output_type": "stream",
          "name": "stdout",
          "text": [
            "Gaji pokok Dwi: 7440000\n",
            "Gaji Dwi dengan libur 3 hari: 6720000\n",
            "Tunjangan Dwi: 744000.0\n",
            "Total gaji dengan tunjangan Dwi: 8184000.0\n",
            "Gaji lembur Dwi: 50000\n",
            "Total gaji lembur Dwi: 8234000.0\n"
          ]
        }
      ]
    },
    {
      "cell_type": "code",
      "source": [
        "!git --version"
      ],
      "metadata": {
        "colab": {
          "base_uri": "https://localhost:8080/"
        },
        "id": "IbUTgpYHb7sW",
        "outputId": "702707cb-3e4e-4e8c-8158-975a3c14fdb5"
      },
      "execution_count": 1,
      "outputs": [
        {
          "output_type": "stream",
          "name": "stdout",
          "text": [
            "git version 2.34.1\n"
          ]
        }
      ]
    },
    {
      "cell_type": "code",
      "source": [
        "! git config --global user.name \"Kanahayameilia\""
      ],
      "metadata": {
        "id": "1DZfWJbrcWxd"
      },
      "execution_count": 2,
      "outputs": []
    },
    {
      "cell_type": "code",
      "source": [
        "!git config --global user.email \"Kanahayameiliea@gmail.com\""
      ],
      "metadata": {
        "id": "ZDwXnoUrcuKD"
      },
      "execution_count": 4,
      "outputs": []
    },
    {
      "cell_type": "code",
      "source": [
        "!ls"
      ],
      "metadata": {
        "colab": {
          "base_uri": "https://localhost:8080/"
        },
        "id": "DovhmsBVdULa",
        "outputId": "92559922-6a50-479b-d88f-58ef89072835"
      },
      "execution_count": 6,
      "outputs": [
        {
          "output_type": "stream",
          "name": "stdout",
          "text": [
            "sample_data  week02\n"
          ]
        }
      ]
    },
    {
      "cell_type": "code",
      "source": [
        "%cd week02"
      ],
      "metadata": {
        "colab": {
          "base_uri": "https://localhost:8080/"
        },
        "id": "G07k8aSedV9I",
        "outputId": "c82ac081-e277-409c-e42e-e784fa88d72d"
      },
      "execution_count": 7,
      "outputs": [
        {
          "output_type": "stream",
          "name": "stdout",
          "text": [
            "/content/week02\n"
          ]
        }
      ]
    },
    {
      "cell_type": "code",
      "source": [
        "!pwd"
      ],
      "metadata": {
        "colab": {
          "base_uri": "https://localhost:8080/"
        },
        "id": "czba3TkseE5r",
        "outputId": "60a17424-cfc7-4deb-b823-6d9ed04d0ff3"
      },
      "execution_count": 8,
      "outputs": [
        {
          "output_type": "stream",
          "name": "stdout",
          "text": [
            "/content/week02\n"
          ]
        }
      ]
    },
    {
      "cell_type": "code",
      "source": [
        "!echo “# Some dummy text” >> new.md"
      ],
      "metadata": {
        "id": "HCJ5qktZeIs-"
      },
      "execution_count": 9,
      "outputs": []
    },
    {
      "cell_type": "code",
      "source": [
        "!git status"
      ],
      "metadata": {
        "colab": {
          "base_uri": "https://localhost:8080/"
        },
        "id": "XK1jdw-DeMu4",
        "outputId": "b148573a-75b3-48b1-f820-c92cc47f2d26"
      },
      "execution_count": 10,
      "outputs": [
        {
          "output_type": "stream",
          "name": "stdout",
          "text": [
            "On branch main\n",
            "\n",
            "No commits yet\n",
            "\n",
            "Untracked files:\n",
            "  (use \"git add <file>...\" to include in what will be committed)\n",
            "\t\u001b[31mnew.md\u001b[m\n",
            "\n",
            "nothing added to commit but untracked files present (use \"git add\" to track)\n"
          ]
        }
      ]
    },
    {
      "cell_type": "code",
      "source": [
        "!git add new.md"
      ],
      "metadata": {
        "id": "vQI44B20eT2e"
      },
      "execution_count": 11,
      "outputs": []
    },
    {
      "cell_type": "markdown",
      "source": [],
      "metadata": {
        "id": "bENuejcLRpTN"
      }
    },
    {
      "cell_type": "code",
      "source": [
        "! git commit -m \"allahuakbar\""
      ],
      "metadata": {
        "colab": {
          "base_uri": "https://localhost:8080/"
        },
        "id": "6BDUMT24elSE",
        "outputId": "47d0dd8b-a479-456c-c7ed-87c3277d7bb3"
      },
      "execution_count": 12,
      "outputs": [
        {
          "output_type": "stream",
          "name": "stdout",
          "text": [
            "[main (root-commit) a120c49] allahuakbar\n",
            " 1 file changed, 1 insertion(+)\n",
            " create mode 100644 new.md\n"
          ]
        }
      ]
    },
    {
      "cell_type": "code",
      "source": [
        "!git push"
      ],
      "metadata": {
        "colab": {
          "base_uri": "https://localhost:8080/"
        },
        "id": "apACHshTesG0",
        "outputId": "63f802b9-cf93-4ca7-fef5-1808fc1d535f"
      },
      "execution_count": 13,
      "outputs": [
        {
          "output_type": "stream",
          "name": "stdout",
          "text": [
            "Enumerating objects: 3, done.\n",
            "Counting objects:  33% (1/3)\rCounting objects:  66% (2/3)\rCounting objects: 100% (3/3)\rCounting objects: 100% (3/3), done.\n",
            "Writing objects:  33% (1/3)\rWriting objects:  66% (2/3)\rWriting objects: 100% (3/3)\rWriting objects: 100% (3/3), 234 bytes | 234.00 KiB/s, done.\n",
            "Total 3 (delta 0), reused 0 (delta 0), pack-reused 0\n",
            "To https://github.com/Kanahayameilia/week02.git\n",
            " * [new branch]      main -> main\n"
          ]
        }
      ]
    }
  ]
}